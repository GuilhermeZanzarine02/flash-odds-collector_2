{
 "cells": [
  {
   "cell_type": "markdown",
   "id": "6cc69aae",
   "metadata": {},
   "source": [
    "<h1>Tratamento de Dados</h1>"
   ]
  },
  {
   "cell_type": "code",
   "execution_count": 1,
   "id": "36a13112",
   "metadata": {},
   "outputs": [],
   "source": [
    "import pandas as pd"
   ]
  },
  {
   "cell_type": "code",
   "execution_count": 2,
   "id": "bd0f4312",
   "metadata": {},
   "outputs": [],
   "source": [
    "url = r'C:\\Users\\zanza\\Desktop\\flash-odds-collector_2\\flash-odds-collector_2\\data\\dados_flashscore20250616_161419'"
   ]
  },
  {
   "cell_type": "code",
   "execution_count": 3,
   "id": "4008c42f",
   "metadata": {},
   "outputs": [],
   "source": [
    "#Lendo arquivo\n",
    "data = pd.read_csv(url, sep=',')"
   ]
  },
  {
   "cell_type": "code",
   "execution_count": 4,
   "id": "808795a1",
   "metadata": {},
   "outputs": [
    {
     "data": {
      "text/html": [
       "<div>\n",
       "<style scoped>\n",
       "    .dataframe tbody tr th:only-of-type {\n",
       "        vertical-align: middle;\n",
       "    }\n",
       "\n",
       "    .dataframe tbody tr th {\n",
       "        vertical-align: top;\n",
       "    }\n",
       "\n",
       "    .dataframe thead th {\n",
       "        text-align: right;\n",
       "    }\n",
       "</style>\n",
       "<table border=\"1\" class=\"dataframe\">\n",
       "  <thead>\n",
       "    <tr style=\"text-align: right;\">\n",
       "      <th></th>\n",
       "      <th>Matchup</th>\n",
       "      <th>Stadium</th>\n",
       "      <th>Capacity</th>\n",
       "      <th>Data</th>\n",
       "      <th>Horario</th>\n",
       "    </tr>\n",
       "  </thead>\n",
       "  <tbody>\n",
       "    <tr>\n",
       "      <th>0</th>\n",
       "      <td>Bahia x Atlético-MG</td>\n",
       "      <td>Casa de Apostas Arena Fonte Nova</td>\n",
       "      <td>48902</td>\n",
       "      <td>13.07.2025</td>\n",
       "      <td>17:00</td>\n",
       "    </tr>\n",
       "    <tr>\n",
       "      <th>1</th>\n",
       "      <td>Corinthians x Red Bull Bragantino</td>\n",
       "      <td>Neo Química Arena</td>\n",
       "      <td>49205</td>\n",
       "      <td>13.07.2025</td>\n",
       "      <td>17:00</td>\n",
       "    </tr>\n",
       "    <tr>\n",
       "      <th>2</th>\n",
       "      <td>Cruzeiro x Grêmio</td>\n",
       "      <td>Mineirão</td>\n",
       "      <td>61927</td>\n",
       "      <td>13.07.2025</td>\n",
       "      <td>17:00</td>\n",
       "    </tr>\n",
       "    <tr>\n",
       "      <th>3</th>\n",
       "      <td>Flamengo x São Paulo</td>\n",
       "      <td>Maracanã</td>\n",
       "      <td>78838</td>\n",
       "      <td>13.07.2025</td>\n",
       "      <td>17:00</td>\n",
       "    </tr>\n",
       "    <tr>\n",
       "      <th>4</th>\n",
       "      <td>Fortaleza x Ceará</td>\n",
       "      <td>Castelão</td>\n",
       "      <td>64846</td>\n",
       "      <td>13.07.2025</td>\n",
       "      <td>17:00</td>\n",
       "    </tr>\n",
       "    <tr>\n",
       "      <th>5</th>\n",
       "      <td>Internacional x Vitória</td>\n",
       "      <td>Estádio José Pinheiro Borda</td>\n",
       "      <td>51300</td>\n",
       "      <td>13.07.2025</td>\n",
       "      <td>17:00</td>\n",
       "    </tr>\n",
       "    <tr>\n",
       "      <th>6</th>\n",
       "      <td>Juventude x Sport</td>\n",
       "      <td>Estadio Alfredo Jaconi</td>\n",
       "      <td>19924</td>\n",
       "      <td>13.07.2025</td>\n",
       "      <td>17:00</td>\n",
       "    </tr>\n",
       "    <tr>\n",
       "      <th>7</th>\n",
       "      <td>Mirassol x Fluminense</td>\n",
       "      <td>Estádio José Maria de Campos Maia</td>\n",
       "      <td>15000</td>\n",
       "      <td>13.07.2025</td>\n",
       "      <td>17:00</td>\n",
       "    </tr>\n",
       "    <tr>\n",
       "      <th>8</th>\n",
       "      <td>Santos x Palmeiras</td>\n",
       "      <td>Vila Belmiro</td>\n",
       "      <td>16068</td>\n",
       "      <td>13.07.2025</td>\n",
       "      <td>17:00</td>\n",
       "    </tr>\n",
       "    <tr>\n",
       "      <th>9</th>\n",
       "      <td>Vasco x Botafogo</td>\n",
       "      <td>São Januário</td>\n",
       "      <td>21880</td>\n",
       "      <td>13.07.2025</td>\n",
       "      <td>17:00</td>\n",
       "    </tr>\n",
       "  </tbody>\n",
       "</table>\n",
       "</div>"
      ],
      "text/plain": [
       "                             Matchup                            Stadium  \\\n",
       "0                Bahia x Atlético-MG   Casa de Apostas Arena Fonte Nova   \n",
       "1  Corinthians x Red Bull Bragantino                  Neo Química Arena   \n",
       "2                  Cruzeiro x Grêmio                           Mineirão   \n",
       "3               Flamengo x São Paulo                           Maracanã   \n",
       "4                  Fortaleza x Ceará                           Castelão   \n",
       "5            Internacional x Vitória        Estádio José Pinheiro Borda   \n",
       "6                  Juventude x Sport             Estadio Alfredo Jaconi   \n",
       "7              Mirassol x Fluminense  Estádio José Maria de Campos Maia   \n",
       "8                 Santos x Palmeiras                       Vila Belmiro   \n",
       "9                   Vasco x Botafogo                       São Januário   \n",
       "\n",
       "   Capacity        Data Horario  \n",
       "0     48902  13.07.2025   17:00  \n",
       "1     49205  13.07.2025   17:00  \n",
       "2     61927  13.07.2025   17:00  \n",
       "3     78838  13.07.2025   17:00  \n",
       "4     64846  13.07.2025   17:00  \n",
       "5     51300  13.07.2025   17:00  \n",
       "6     19924  13.07.2025   17:00  \n",
       "7     15000  13.07.2025   17:00  \n",
       "8     16068  13.07.2025   17:00  \n",
       "9     21880  13.07.2025   17:00  "
      ]
     },
     "execution_count": 4,
     "metadata": {},
     "output_type": "execute_result"
    }
   ],
   "source": [
    "#5 primeiras linhas\n",
    "data.head(10)"
   ]
  }
 ],
 "metadata": {
  "kernelspec": {
   "display_name": "venv",
   "language": "python",
   "name": "python3"
  },
  "language_info": {
   "codemirror_mode": {
    "name": "ipython",
    "version": 3
   },
   "file_extension": ".py",
   "mimetype": "text/x-python",
   "name": "python",
   "nbconvert_exporter": "python",
   "pygments_lexer": "ipython3",
   "version": "3.13.1"
  }
 },
 "nbformat": 4,
 "nbformat_minor": 5
}
